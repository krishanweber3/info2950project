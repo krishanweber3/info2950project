{
 "cells": [
  {
   "cell_type": "markdown",
   "metadata": {},
   "source": [
    "# Phase 4 "
   ]
  },
  {
   "cell_type": "markdown",
   "metadata": {},
   "source": [
    "## Introduction  \n",
    "The 2019–20 NBA season was the 74th season of the National Basketball Association (NBA). The season began on October 22, 2019, and originally had an end date of April 15, 2020. However, the season was suspended on March 11 as a result of the COVID-19 pandemic. On June 4, the NBA approved a plan to restart the season on July 30. All gameplay took place in the NBA Bubble, the isolation zone specifically created for NBA operations in Orlando, FL. The Finals ended on October 11, 2020, 355 days after the October 22, 2019, regular-season opening day. This was the longest season in NBA history.\n",
    "\n",
    "Given the unique circumstances and duration  of the 2019-20 NBA season, we were interested in comparing overall team performance inside and outside the NBA Bubble in order to determine which factors best predict success.  \n",
    "We also wanted to answer the following research questions:  \n",
    "- Does playoff seeding have an impact on playoff wins, both inside and outside of the NBA Bubble?  \n",
    "- How much do core stats such as points, rebounds, and assists affect overall success?  \n",
    "- Did teams with more experienced players have more success in the bubble?  \n",
    "\n",
    "For the first question, we found that playoff seed did impact overall wins and that in the NBA Bubble teams with higher seeds didn’t do as well as in the 2019 playoffs, perhaps since there was no home court advantage in the 2020 playoffs. For the second question, we found that points, rebounds, and assists were not quite as important to predicting wins as we had expected. For the third question, the results were less clear. Overall it doesn’t seem that older or younger teams necessarily had an advantage in the NBA Bubble.\n"
   ]
  },
  {
   "cell_type": "markdown",
   "metadata": {},
   "source": [
    "## Data Description  \n",
    "Our data was collected from NBA.com, where we filtered by date and game type (regular season/playoffs) to collect the specific data we were interested in analyzing. In order to get the data into Jupyter Notebook, we copied and pasted it from NBA.com into an excel file, which we then read into the notebook as separate sheets in the file. After performing some initial analysis on this data, we decided to supplement it with data collected from https://en.hispanosnba.com/teams/comparison, which we copied into the excel file as well. This data provides information about salaries, ages, and experience that we thought would be valuable for our analyses. \n",
    "\n",
    "We have provided answers to relevant questions from the “Datasheets for Datasets” document, as follows.\n",
    "\n",
    "What are the observations (rows) and the attributes (columns)?\n",
    "- The observations are teams in the NBA and the columns are the various metrics that the league tracks, such as wins, losses, points, etc.\n",
    "\n",
    "What processes might have influenced what data was observed and recorded and what was not?\n",
    "- All data from NBA games should have been observed and processed by NBA record keepers. We have assumed that they collected all necessary data and recorded it accurately.\n",
    "\n",
    "What preprocessing was done, and how did the data come to be in the form that you are using?\n",
    "- The data was collected from the official NBA website, where it was already formatted and relatively easy to use. We did have to do some editing ourselves, including removing attributes and rows that were unnecessary for our analysis, and by adding some data that we thought would be valuable.\n",
    "\n",
    "If people are involved, were they aware of the data collection and if so, what purpose did they expect the data to be used for?\n",
    "- NBA players are involved in the collection of this data, and presumably knew that it would be collected for analytics purposes. They likely expect this data to be used by teams and the league for extensive analysis of gameplay. \n",
    "\n",
    "Where can your raw source data be found, if applicable? Provide a link to the raw data (hosted in a Cornell Google Drive or Cornell Box). \n",
    "- Our raw data is from nba.com and from https://en.hispanosnba.com/teams/comparison, and our specific data can be found at https://drive.google.com/file/d/1RO9HCChrXBuv_nQw8GpfUq-LTqtmp33Y/view?usp=sharing. \n",
    "\n",
    "For what purpose was the dataset created? \n",
    "- The dataset was created for use by the NBA and for consumption by fans, teams, and other entities. The data was created so that the league and teams could perform analysis that can potentially lead to enhancements in future gameplay.\n",
    "\n",
    "Who created the dataset (e.g., which team, research group) and on behalf of which entity (e.g., company, institution, organization)? \n",
    "- The NBA created the dataset on behalf of itself.\n",
    "\n",
    "Who funded the creation of the dataset? \n",
    "- The NBA funded the creation of the dataset.\n",
    "\n",
    "What do the instances that comprise the dataset represent (e.g., documents, photos, people, countries)?\n",
    "- The instances represent gameplay performance by individual NBA players that have been aggregated and averaged by team.\n",
    "\n",
    "Are there multiple types of instances (e.g., movies, users, and ratings; people and interactions between them; nodes and edges)? Please provide a description. How many instances are there in total (of each type, if appropriate)?.\n",
    "- The data doesn’t necessarily have multiple types of instances or interactions between them, but it should be noted that the data recorded about each team does have an effect on the rest of the data, i.e. a team’s defensive statistics are affected by other teams’ offensive statistics, and vice versa. \n",
    "\n",
    "Is any information missing from individual instances? If so, please provide a description, explaining why this information is missing (e.g., because it was unavailable). This does not include intentionally removed information, but might include, e.g., redacted text.\n",
    "- There doesn’t seem to be any missing data; the NBA does a good job producing comprehensive and complete datasets. \n",
    "\n",
    "Does the dataset relate to people? If not, you may skip the remaining questions in this section.\n",
    "- The dataset relates to professional basketball players.\n",
    "\n",
    "Does the dataset identify any subpopulations (e.g., by age, gender)? If so, please describe how these subpopulations are identified and provide a description of their respective distributions within the dataset.\n",
    "- The dataset does contain information about the average age of NBA players on each team, but does not have information about ages of individuals. The average age across teams is nearly normally distributed, with a fairly small range of values (between about 24-30). The data also includes information about average salaries of players on each team, which is similarly normally distributed and has a small range of values (between 5 and 10 million USD). \n",
    "\n",
    "Is it possible to identify individuals (i.e., one or more natural persons), either directly or indirectly (i.e., in combination with other data) from the dataset? If so, please describe how.\n",
    "- There is not a way to identify specific individuals from our dataset, because the observations are averages from teams of about 15 people. We did not use any individual player data, since team data should be more useful for producing insights about overall team performance, which is what we are most interested in. \n",
    "\n",
    "How was the data associated with each instance acquired? Was the data directly observable (e.g., raw text, movie ratings), reported by subjects (e.g., survey responses), or indirectly inferred/derived from other data (e.g., part-of-speech tags, model-based guesses for age or language)? If data was reported by subjects or indirectly inferred/derived from other data, was the data validated/verified? If so, please describe how. • What mechanisms or procedures were used to collect the data (e.g., hardware apparatus or sensor, manual human curation, software program, software API)? How were these mechanisms or procedures validated? \n",
    "- The data was collected directly by NBA statisticians based on box scores from individual games (collected by scorekeepers), and likely processed by software programs to aggregate and average data across all teams. The NBA also uses game recordings to confirm data and conduct further analysis to generate advanced stats. \n",
    "\n",
    "Who was involved in the data collection process (e.g., students, crowdworkers, contractors) and how were they compensated (e.g., how much were crowdworkers paid)?\n",
    "- NBA employees are directly responsible for data collection, and are likely compensated at a salary of between $30,000 and $70,000 (multiple sources, unconfirmed).\n",
    "\n",
    "Over what timeframe was the data collected? Does this timeframe match the creation timeframe of the data associated with the instances (e.g., recent crawl of old news articles)? If not, please describe the timeframe in which the data associated with the instances was created.\n",
    "- The data we are using was all collected within the last 20 months, and exactly matches the creation timeframe of the data since it is collected immediately as it is produced. \n",
    "\n",
    "Does the dataset relate to people? If not, you may skip the remainder of the questions in this section.\n",
    "- It relates to NBA players. \n",
    "\n",
    "Did you collect the data from the individuals in question directly, or obtain it via third parties or other sources (e.g., websites)?\n",
    "- We collected it from the NBA website.\n",
    "\n",
    "Were the individuals in question notified about the data collection? If so, please describe (or show with screenshots or other information) how notice was provided, and provide a link or other access point to, or otherwise reproduce, the exact language of the notification itself.\n",
    "- Although we do not have exact confirmation of this, we presume that NBA players are notified in their contracts that their gameplay data will be collected.\n",
    "\n",
    "Did the individuals in question consent to the collection and use of their data? If so, please describe (or show with screenshots or other information) how consent was requested and provided, and provide a link or other access point to, or otherwise reproduce, the exact language to which the individuals consented.\n",
    "- Again, we do not have precise confirmation of players’ consent, but assume that they consented to this when they signed their contacts.\n",
    "\n",
    "Has the dataset been used for any tasks already? If so, please provide a description.\n",
    "- Unclear, but has likely undergone some analysis by the league and teams.\n",
    "\n",
    "What (other) tasks could the dataset be used for?\n",
    "- It will likely primarily be used to derive insights about performance that can be used to improve gameplay. \n",
    "\n",
    "Are there tasks for which the dataset should not be used? If so, please provide a description.\n",
    "- It should not be used to identify any long-term patterns in performance, because it only contains information about a short time frame. It should also not be used to analyze individual player performance, since all data has been aggregated by team. \n"
   ]
  },
  {
   "cell_type": "markdown",
   "metadata": {},
   "source": [
    "## Preregistration Statement  \n",
    "We are preregistering the 3 following analyses for our final project:\n",
    "\n",
    "1) Single linear regression on playoff seed to predict wins both inside and outside of bubble   \n",
    "This regression will allow us to compare the effect of a high or low playoff seed on overall performance. We expect teams with higher seeds to always perform better than teams with lower seeds, but this analysis will tell us how often this is actually true. Additionally, we are able to compare the effect of high seeds from last year (when higher-seeded teams had home court advantage) to this year (games played without fans so neither team plays at home).  \n",
    "  \n",
    "2) Multiple linear regression with points, rebounds, assists to predict wins  \n",
    "Points, rebounds, and assists are the most common stats that fans and teams look at. This linear regression will allow us to see if they are actually the most important statistics in predicting success, or if they are not as indicative of performance as we believe.  \n",
    "  \n",
    "3) Single linear regression to show how age/experience affected success for teams in the bubble  \n",
    "The bubble was an environment that no NBA player had ever experienced before, and we are interested in whether the new environment had a greater effect on more or less experienced teams. On one hand, experienced NBA players may have been better able to adjust to the new environment because they have spent a lot of time in the NBA, but on the other hand younger players may be more used to playing in empty gyms because they haven't spent much time playing in crowded NBA arenas."
   ]
  },
  {
   "cell_type": "markdown",
   "metadata": {},
   "source": [
    "## Data Analysis and Evaluation of Significance"
   ]
  },
  {
   "cell_type": "code",
   "execution_count": 2,
   "metadata": {},
   "outputs": [],
   "source": [
    "import pandas as pd\n",
    "import numpy as np\n",
    "import sys\n",
    "import matplotlib.pyplot as plt\n",
    "import seaborn as sns\n",
    "\n",
    "\n",
    "from sklearn.linear_model import LinearRegression\n",
    "from scipy import stats\n",
    "from scipy.stats import poisson, ttest_ind"
   ]
  },
  {
   "cell_type": "markdown",
   "metadata": {},
   "source": [
    "## Stuff to delete after I get all the data right"
   ]
  },
  {
   "cell_type": "code",
   "execution_count": 9,
   "metadata": {},
   "outputs": [],
   "source": [
    "#Importing the data cleaning, making the naming of sheets more uniform\n",
    "\n",
    "df = pd.read_excel('nbadata2950.xlsx', sheet_name='bubbleplayofftrad')\n",
    "cf= pd.read_excel('nbadata2950.xlsx', sheet_name='bubbleplayoffadv')\n",
    "df=df.drop(['Unnamed: 0'], axis=1)\n",
    "cf=cf.drop(['Unnamed: 0'], axis=1)\n",
    "res = cf.merge(df, how='inner', on='TEAM')\n",
    "res=res.drop(columns=['GP_y', 'W_y', 'L_y'])\n",
    "res=res.rename(columns={\"GP_x\": \"GP\", \"W_x\": \"Wins\", \"L_x\": \"Losses\", \"MIN_x\": \"MIN\", 'MIN_Y': 'Total Mins'})\n",
    "res['avg_salary'] = res['avg_salary'].str.replace('$', '')\n",
    "res['avg_salary'] = res['avg_salary'].str.replace('M', '')\n",
    "res['avg_salary']=res['avg_salary'].astype(float)\n",
    "conf=['W','E','E','W','W','E','W','E','W','W','W','E','W','E','E','E']\n",
    "ranc=[1,5,3,3,2,2,4,1,5,6,7,8,8,7,4,6]\n",
    "res['conf']=conf\n",
    "res['seed']=ranc\n",
    "res.insert(0, \"Final Rank\", [i for i in range(1,17)])\n",
    "bubble_playoff=res\n",
    "\n",
    "bubble_reg_trad = pd.read_excel(\"nbadata2950.xlsx\", sheet_name=\"bubbleregtrad\")\n",
    "bubble_reg_adv= pd.read_excel(\"nbadata2950.xlsx\", sheet_name=\"bubbleregadv\")\n",
    "bubble_reg=pd.merge(bubble_reg_trad, bubble_reg_adv, how='inner', on='TEAM')\n",
    "\n",
    "bubble_reg=bubble_reg.drop(columns=['GP_y', 'W_y', 'L_y', 'Unnamed: 0_x'])\n",
    "bubble_reg=bubble_reg.rename(columns={\"GP_x\":\"GP\", \"W_x\": \"Wins\", \"L_x\": \"Losses\", \"MIN_x\": \"MIN\"})\n",
    "bubble_reg['avg_salary'] = bubble_reg['avg_salary'].str.replace('$', '')\n",
    "bubble_reg['avg_salary'] = bubble_reg['avg_salary'].str.replace('M', '')\n",
    "bubble_reg['avg_salary']=bubble_reg['avg_salary'].astype(float)\n",
    "\n",
    "trad_stats = pd.read_excel('nbadata2950.xlsx', sheet_name='outregtrad')\n",
    "adv_stats = pd.read_excel('nbadata2950.xlsx', sheet_name='outregadv')\n",
    "trad_stats = trad_stats.drop([13])\n",
    "trad_stats = trad_stats.drop(trad_stats.index[17:29])\n",
    "adv_stats = adv_stats.drop([13])\n",
    "adv_stats = adv_stats.drop(adv_stats.index[17:29])\n",
    "trad_stats = pd.merge(trad_stats,adv_stats, how = 'inner', on = 'TEAM')\n",
    "trad_stats = trad_stats.drop(columns=['GP_y','W_y','L_y'])\n",
    "trad_stats = trad_stats.rename(columns={'Unnamed: 0_x': 'RANK','GP_x': 'GP','W_x' :'Wins','L_x':'Losses','MIN_x': 'MPG', 'MIN_y' :'TMIN'})\n",
    "stats = trad_stats\n",
    "stats['avg_salary'] = stats['avg_salary'].str.replace('$', '')\n",
    "stats['avg_salary'] = stats['avg_salary'].str.replace('M', '')\n",
    "stats['avg_salary']=stats['avg_salary'].astype(float)\n",
    "pre_bubble_reg=stats\n",
    "\n",
    "playoffs2019traditional = pd.read_excel(\"nbadata2950.xlsx\", sheet_name = \"outplayofftrad\")\n",
    "playoffs2019advanced = pd.read_excel(\"nbadata2950.xlsx\", sheet_name = \"outplayoffadv\")\n",
    "playoffs2019 = pd.merge(playoffs2019traditional, playoffs2019advanced, how = 'inner', on = 'TEAM')\n",
    "playoffs2019 = playoffs2019.drop(columns = ['GP_y', 'W_y', 'L_y', 'Unnamed: 0_y', 'Unnamed: 0_x'])\n",
    "playoffs2019 = playoffs2019.rename(columns = {\"GP_x\": \"GP\", \"W_x\": \"Wins\", \"L_x\": \"Losses\",\"MIN_x\": \"MPG\", \"MIN_y\": \"Tot Mins\"})\n",
    "playoffs2019.insert(1, \"Conference\", [\"East\",\"West\",\"East\", \"West\", \"West\", \"East\", \"West\", \"East\", \"West\", \"West\", \"East\", \"West\", \"East\", \"West\", \"East\", \"East\"])\n",
    "playoffs2019.insert(0, \"Final Rank\", [i for i in range(1,17)])\n",
    "playoffs2019.insert(2, \"Seed\", [2, 1, 1, 3, 2, 3, 4, 4, 7, 8, 6, 6, 7, 5,8, 5])\n",
    "pre_bubble_playoff=playoffs2019\n",
    "\n"
   ]
  },
  {
   "cell_type": "markdown",
   "metadata": {},
   "source": [
    "### Linear Regression on seed to predict wins"
   ]
  },
  {
   "cell_type": "code",
   "execution_count": 11,
   "metadata": {},
   "outputs": [
    {
     "name": "stdout",
     "output_type": "stream",
     "text": [
      "Playoff 2019 seed vs # playoff wins:\n",
      "Coefficient: -1.774\n",
      "R-squared score: 0.711\n",
      "The test statistic is -0.454, the p value is 0.653\n"
     ]
    },
    {
     "data": {
      "image/png": "[encoded data removed]",
      "text/plain": [
       "<Figure size 432x288 with 1 Axes>"
      ]
     },
     "metadata": {
      "needs_background": "light"
     },
     "output_type": "display_data"
    }
   ],
   "source": [
    "#Data importing and cleaning code has been omitted for easier readability\n",
    "#graph for 2019 playoffs\n",
    "graph1=sns.regplot(x='Seed', y='Wins', data=pre_bubble_playoff)\n",
    "\n",
    "model1 = LinearRegression()\n",
    "model1.fit(pre_bubble_playoff[ [\"Seed\"] ], pre_bubble_playoff[\"Wins\"])\n",
    "\n",
    "print(\"Playoff 2019 seed vs # playoff wins:\")\n",
    "print(\"Coefficient: {:.3f}\".format(model1.coef_[0]))\n",
    "print(\"R-squared score: {:.3f}\".format(model1.score(pre_bubble_playoff[ [\"Seed\"] ], pre_bubble_playoff[\"Wins\"])))\n",
    "SampleA,SampleB=pre_bubble_playoff['Seed'], pre_bubble_playoff['Wins']\n",
    "shard=ttest_ind(SampleA,SampleB)\n",
    "print(\"The test statistic is {:.3f}, the p value is {:.3f}\".format(shard[0],shard[1]))"
   ]
  },
  {
   "cell_type": "markdown",
   "metadata": {},
   "source": [
    "The p value of 0.6534 indicates that the results of the t-test are not statistically significant since it is greater than our cutoff of 0.05. This tells us that the distributions of wins and seeds in the 2019 playoffs are not different, so we fail to reject the null hypothesis that the distributions are not different."
   ]
  },
  {
   "cell_type": "code",
   "execution_count": 12,
   "metadata": {},
   "outputs": [
    {
     "name": "stdout",
     "output_type": "stream",
     "text": [
      "Playoff 2020 seed vs # playoff wins:\n",
      "Coefficient: -1.048\n",
      "R-squared score: 0.290\n",
      "The test statistic is -0.386, the p value is 0.702\n"
     ]
    },
    {
     "data": {
      "image/png": "[encoded data removed]",
      "text/plain": [
       "<Figure size 432x288 with 1 Axes>"
      ]
     },
     "metadata": {
      "needs_background": "light"
     },
     "output_type": "display_data"
    }
   ],
   "source": [
    "#graph for playoffs in bubble\n",
    "graph2=sns.regplot(x='seed', y='Wins', data=bubble_playoff)\n",
    "\n",
    "model2 = LinearRegression()\n",
    "model2.fit(bubble_playoff[ [\"seed\"] ], bubble_playoff[\"Wins\"])\n",
    "\n",
    "print(\"Playoff 2020 seed vs # playoff wins:\")\n",
    "print(\"Coefficient: {:.3f}\".format(model2.coef_[0]))\n",
    "print(\"R-squared score: {:.3f}\".format(model2.score(bubble_playoff[ [\"seed\"] ], bubble_playoff[\"Wins\"])))\n",
    "SampleA,SampleB=bubble_playoff['seed'], bubble_playoff['Wins']\n",
    "shard=ttest_ind(SampleA,SampleB)\n",
    "print(\"The test statistic is {:.3f}, the p value is {:.3f}\".format(shard[0],shard[1]))"
   ]
  },
  {
   "cell_type": "markdown",
   "metadata": {},
   "source": [
    "The p value of 0.7020 is above our significance threshold of 0.05, so again we fail to reject the null hypothesis that the distribution of wins is not different from the distribution of seeds in the 2020 playoffs. "
   ]
  },
  {
   "cell_type": "markdown",
   "metadata": {},
   "source": [
    "### Multiple Linear Regression on points, rebounds, and assists to predict wins"
   ]
  },
  {
   "cell_type": "code",
   "execution_count": 26,
   "metadata": {},
   "outputs": [
    {
     "name": "stdout",
     "output_type": "stream",
     "text": [
      "Coefficients:\n",
      "Points: 0.142\n",
      "Rebounds: 0.056\n",
      "Assists: -0.132\n",
      "R-squared: 0.183\n"
     ]
    }
   ],
   "source": [
    "y = bubble_reg['Wins']\n",
    "x=bubble_reg[['PTS', 'REB', 'AST']]\n",
    "model3=LinearRegression()\n",
    "model3.fit(x,y)\n",
    "print(\"Coefficients:\")\n",
    "print(\"Points: {:.3f}\".format(model3.coef_[0]))\n",
    "print(\"Rebounds: {:.3f}\".format(model3.coef_[1]))\n",
    "print(\"Assists: {:.3f}\".format(model3.coef_[2]))\n",
    "print(\"R-squared: {:.3f}\".format(model3.score(x, y)))"
   ]
  },
  {
   "cell_type": "code",
   "execution_count": 27,
   "metadata": {},
   "outputs": [
    {
     "name": "stdout",
     "output_type": "stream",
     "text": [
      "Coefficients:\n",
      "Points: 0.869\n",
      "Rebounds: -0.235\n",
      "Assists: 0.997\n",
      "R-squared: 0.206\n"
     ]
    }
   ],
   "source": [
    "y = pre_bubble_reg['Wins']\n",
    "x=pre_bubble_reg[['PTS', 'REB', 'AST']]\n",
    "model4=LinearRegression()\n",
    "model4.fit(x,y)\n",
    "print(\"Coefficients:\")\n",
    "print(\"Points: {:.3f}\".format(model4.coef_[0]))\n",
    "print(\"Rebounds: {:.3f}\".format(model4.coef_[1]))\n",
    "print(\"Assists: {:.3f}\".format(model4.coef_[2]))\n",
    "print(\"R-squared: {:.3f}\".format(model4.score(x, y)))"
   ]
  },
  {
   "cell_type": "code",
   "execution_count": 25,
   "metadata": {},
   "outputs": [
    {
     "name": "stdout",
     "output_type": "stream",
     "text": [
      "Coefficients:\n",
      "Points: 0.364\n",
      "Rebounds: 0.129\n",
      "Assists: 0.601\n",
      "R-squared: 0.372\n"
     ]
    }
   ],
   "source": [
    "y = bubble_playoff['Wins']\n",
    "x=bubble_playoff[['PTS', 'REB', 'AST']]\n",
    "model5=LinearRegression()\n",
    "model5.fit(x,y)\n",
    "print(\"Coefficients:\")\n",
    "print(\"Points: {:.3f}\".format(model5.coef_[0]))\n",
    "print(\"Rebounds: {:.3f}\".format(model5.coef_[1]))\n",
    "print(\"Assists: {:.3f}\".format(model5.coef_[2]))\n",
    "print(\"R-squared: {:.3f}\".format(model5.score(x, y)))"
   ]
  },
  {
   "cell_type": "markdown",
   "metadata": {},
   "source": [
    "### Linear Regression on Player Impact Estimate (PIE) to predict wins"
   ]
  },
  {
   "cell_type": "code",
   "execution_count": 18,
   "metadata": {},
   "outputs": [
    {
     "name": "stdout",
     "output_type": "stream",
     "text": [
      "Playoff 2020 PIE vs wins:\n",
      "Coefficient: 0.850\n",
      "R-squared score: 0.718\n",
      "The test statistic is 26.538, the p value is 0.000\n"
     ]
    },
    {
     "data": {
      "image/png": "[encoded data removed]",
      "text/plain": [
       "<Figure size 432x288 with 1 Axes>"
      ]
     },
     "metadata": {
      "needs_background": "light"
     },
     "output_type": "display_data"
    }
   ],
   "source": [
    "graph3=sns.regplot(x='PIE', y='Wins', data=bubble_playoff)\n",
    "\n",
    "model7 = LinearRegression()\n",
    "model7.fit(bubble_playoff[ [\"PIE\"] ], bubble_playoff[\"Wins\"])\n",
    "\n",
    "print(\"Playoff 2020 PIE vs wins:\")\n",
    "print(\"Coefficient: {:.3f}\".format(model7.coef_[0]))\n",
    "print(\"R-squared score: {:.3f}\".format(model7.score(bubble_playoff[ [\"PIE\"] ], bubble_playoff[\"Wins\"])))\n",
    "SampleA,SampleB=bubble_playoff['PIE'], bubble_playoff['Wins']\n",
    "shard=ttest_ind(SampleA,SampleB)\n",
    "print(\"The test statistic is {:.3f}, the p value is {:.3f}\".format(shard[0],shard[1]))"
   ]
  },
  {
   "cell_type": "markdown",
   "metadata": {},
   "source": [
    "The p value of nearly 0 is below our threshold for statistical significance of 0.05, so we reject the null hypothesis that the distributions of PIE and wins in the 2020 playoffs were not different, and conclude that they are indeed different."
   ]
  },
  {
   "cell_type": "code",
   "execution_count": 20,
   "metadata": {},
   "outputs": [
    {
     "name": "stdout",
     "output_type": "stream",
     "text": [
      "Regular season in the bubble PIE vs wins:\n",
      "Coefficient: 0.433\n",
      "R-squared score: 0.581\n",
      "The test statistic is 61.905, the p value is 0.000\n"
     ]
    },
    {
     "data": {
      "image/png": "[encoded data removed]",
      "text/plain": [
       "<Figure size 432x288 with 1 Axes>"
      ]
     },
     "metadata": {
      "needs_background": "light"
     },
     "output_type": "display_data"
    }
   ],
   "source": [
    "graph5=sns.regplot(x='PIE', y='Wins', data=bubble_reg)\n",
    "\n",
    "model9 = LinearRegression()\n",
    "model9.fit(bubble_reg[ [\"PIE\"] ], bubble_reg[\"Wins\"])\n",
    "\n",
    "print(\"Regular season in the bubble PIE vs wins:\")\n",
    "print(\"Coefficient: {:.3f}\".format(model9.coef_[0]))\n",
    "print(\"R-squared score: {:.3f}\".format(model9.score(bubble_reg[ [\"PIE\"] ], bubble_reg[\"Wins\"])))\n",
    "SampleA,SampleB=bubble_reg['PIE'], bubble_reg['Wins']\n",
    "shard=ttest_ind(SampleA,SampleB)\n",
    "print(\"The test statistic is {:.3f}, the p value is {:.3f}\".format(shard[0],shard[1]))"
   ]
  },
  {
   "cell_type": "markdown",
   "metadata": {},
   "source": [
    "The p value of nearly 0 is below our threshold for statistical significance of 0.05, so we reject the null hypothesis that the distributions of PIE and wins in the 2020 regular season in-bubble games were not different, and conclude that they are indeed different."
   ]
  },
  {
   "cell_type": "code",
   "execution_count": 28,
   "metadata": {},
   "outputs": [
    {
     "name": "stdout",
     "output_type": "stream",
     "text": [
      "Regular season before the bubble PIE vs wins:\n",
      "Coefficient: 3.070\n",
      "R-squared score: 0.831\n",
      "The test statistic is 6.939, the p value is 0.000\n"
     ]
    },
    {
     "data": {
      "image/png": "[encoded data removed]",
      "text/plain": [
       "<Figure size 432x288 with 1 Axes>"
      ]
     },
     "metadata": {
      "needs_background": "light"
     },
     "output_type": "display_data"
    }
   ],
   "source": [
    "graph6=sns.regplot(x='PIE', y='Wins', data=pre_bubble_reg)\n",
    "\n",
    "model10 = LinearRegression()\n",
    "model10.fit(pre_bubble_reg[ [\"PIE\"] ], pre_bubble_reg[\"Wins\"])\n",
    "\n",
    "print(\"Regular season before the bubble PIE vs wins:\")\n",
    "print(\"Coefficient: {:.3f}\".format(model10.coef_[0]))\n",
    "print(\"R-squared score: {:.3f}\".format(model10.score(pre_bubble_reg[ [\"PIE\"] ], pre_bubble_reg[\"Wins\"])))\n",
    "SampleA,SampleB=pre_bubble_reg['PIE'], pre_bubble_reg['Wins']\n",
    "shard=ttest_ind(SampleA,SampleB)\n",
    "print(\"The test statistic is {:.3f}, the p value is {:.3f}\".format(shard[0],shard[1]))"
   ]
  },
  {
   "cell_type": "markdown",
   "metadata": {},
   "source": [
    "The p value of nearly 0 is below our threshold for statistical significance of 0.05, so we reject the null hypothesis that the distributions of PIE and wins in the 2020 regular season pre-bubble games were not different, and conclude that they are indeed different."
   ]
  },
  {
   "cell_type": "markdown",
   "metadata": {},
   "source": [
    "### Linear Regression on average age to predict wins"
   ]
  },
  {
   "cell_type": "code",
   "execution_count": 29,
   "metadata": {},
   "outputs": [
    {
     "name": "stdout",
     "output_type": "stream",
     "text": [
      "Regular season before the bubble avg_age vs wins:\n",
      "Coefficient: -0.172\n",
      "R-squared score: 0.025\n",
      "The test statistic is 45.621, the p value is 0.000\n"
     ]
    },
    {
     "data": {
      "image/png": "[encoded data removed]",
      "text/plain": [
       "<Figure size 432x288 with 1 Axes>"
      ]
     },
     "metadata": {
      "needs_background": "light"
     },
     "output_type": "display_data"
    }
   ],
   "source": [
    "graph9=sns.regplot(x='avg_age', y='Wins', data=bubble_reg)\n",
    "\n",
    "model13 = LinearRegression()\n",
    "model13.fit(bubble_reg[ [\"avg_age\"] ], bubble_reg[\"Wins\"])\n",
    "\n",
    "print(\"Regular season before the bubble avg_age vs wins:\")\n",
    "print(\"Coefficient: {:.3f}\".format(model13.coef_[0]))\n",
    "print(\"R-squared score: {:.3f}\".format(model13.score(bubble_reg[ [\"avg_age\"] \n",
    "                                                                   ], bubble_reg[\"Wins\"])))\n",
    "SampleA,SampleB=bubble_reg['avg_age'], bubble_reg['Wins']\n",
    "shard=ttest_ind(SampleA,SampleB)\n",
    "print(\"The test statistic is {:.3f}, the p value is {:.3f}\".format(shard[0],shard[1]))"
   ]
  },
  {
   "cell_type": "markdown",
   "metadata": {},
   "source": [
    "The p value of nearly 0 is below our threshold for statistical significance of 0.05, so we reject the null hypothesis that the distributions of age and wins in the 2020 playoff games were not different, and conclude that they are indeed different."
   ]
  },
  {
   "cell_type": "markdown",
   "metadata": {},
   "source": [
    "## Interpretation and Conclusions  \n",
    "\n",
    "Our analysis of data from the 2019 and 2020 NBA seasons resulted in some very interesting findings, as we had hoped. We will go through each of our planned research questions and try to determine with some confidence whether our results were significant.  \n",
    "\n",
    "Research Question 1 - Does playoff seeding have an impact on playoff wins, both inside and outside of the NBA Bubble?  \n",
    "In order to investigate the impact of playoff seeding on playoff performance, we conducted a linear regression with teams' seeds as the input variable and playoff wins as the output variable. In 2019, which was a normal year in the playoffs where higher-seeded teams had home court advantage in each playoff series, we found that there was a moderate linear relationship between playoff seed and playoff wins. The regression coefficient was -1.774, which indicates that teams with seeds 1 higher (e.g. a 2 seed vs a 3 seed) would win 1.774 more games on average than the team in the seed below them. The R-squared value for this regression was 0.711, which indicates that there is a moderately strong linear relationship between seed and wins. These results make some sense intuitively, since teams with a higher seed reap the benefits of playing more games at home (and are also generally better teams) than the teams they play against with lower seeds. We wanted to compare the effect of higher seeds in 2019 to 2020, when the playoffs occurred in the bubble and there was no \"home\" team.  \n",
    "\n",
    "We ran the same linear regression on the 2020 playoff data set, which yielded a regression coefficient of -1.048 and an r-squared value of 0.290. These values both indicate that there was a weaker relationship between seed and wins in the 2020 playoffs than in 2019. In 2020, a higher seed only resulted in 1.048 more wins, compared with 1.774 in 2019. The r-squared value of 0.290 also indicates that there is an extremely weak linear relationship between seed and wins, and that a team's seed is not a good predictor of their total playoff wins. The results of these analyses were as we expected, since higher seeded- teams in the 2020 playoffs did not enjoy the benefits of playing their playoff games in their home arenas, and it seems their performance may have suffered because of it. Of course, the data we looked at was quite limited since it was just one year's playoffs, but it is definitely interesting to see that home court advantage in the playoffs looks to have an effect on a team's success. \n",
    "\n",
    "Research Question 2 - How much do core stats such as points, rebounds, and assists affect overall success?  \n",
    "\n",
    "In order to test the impact of points, rebounds, and assists on overall team performance, we ran multiple linear regression with points, rebounds, and assists as the input variables and number of wins as the output variable. We ran this regression on our data from 3 separate dataframes - the 2020 regular season pre-bubble games, the 2020 regular season bubble games, and the 2020 playoff games. We found for all 3 regressions that these 3 statistics are not very good predictors of wins. The r-squared values for regular season pre-bubble, regular season in-bubble, and playoffs were 0.206, 0.183, and 0.372, respectively. These values all indicate quite weak linear relationships between these stats and wins. Although this data is only from 1 season, we had expected that points, rebounds, and assists would be at least moderately powerful predictors of wins, so it is interesting to see that they do not have as large of an impact as we had expected. In fact, some of the regression coefficients for rebounds and assists were negative, which would mean teams with more rebounds and assists are likely to have fewer wins given this model.  \n",
    "\n",
    "Research Question 3 - Did teams with more experience have more success in the bubble?\n",
    "\n",
    "In order to test the affect of team experience on bubble success, we ran a linear regression with team average age as the input variable and wins as the output variable. In order to get the most team data, we only ran this regression on the data from the 8 regular season in-bubble games (there were 22 teams in the bubble regular season but only 16 in the playoffs). The regression coefficient in this model was -0.172, which indicates that there was weak negative linear relationship between average team age and wins in this 8 game stretch. The model predicts that a team has an average age of 1 more than another team will win 0.172 fewer games. The r-squared value of the model was 0.025, which indicates an extremely weak, almost negligible linear relationship between age and wins in the regular season bubble games. Of course, with so few games it would be difficult to be confident in any correlation anyway. Additionally, during the last 8 regular season games many teams will let their star players rest because they do not need to win the games to make the playoffs. As a result, better teams likely won fewer games towards the end of the season, which definitely affect this analysis. \n",
    "\n",
    "As part of our overall analysis, we ran many linear regression models to see which statistics are the best predictors of team wins, and we found that player impact estimate (PIE) had the strongest linear relationship with wins throughout each segment of the 2020 season. In fact, our linear regression with the most game data (2020 regular season pre-bubble games) output an r-squared value of 0.831, which indicates a relatively strong linear relationship. The regression coefficient was 3.070 in this model, which tells us that for every increase of 1 in PIE, a team will win 3.070 more games. PIE is an advanced statistic developed by the NBA which considers a variety of statistics to predict the impact of a team's players on the outcome of a game. For each game, PIE for both teams with add up to 100%, so teams with a PIE of over 50% are likely to win a given game. The metric is used directly to predict which team has a larger impact on the game, and therefore will win the game, so it makes sense that it is highly correlated with wins in our analysis. \n",
    "\n",
    "Overall, we found that our analysis was generally sufficient to answer our research questions, but of course with a dataset limited to just over a year's worth of games, it is difficult to be very confident about our results."
   ]
  },
  {
   "cell_type": "markdown",
   "metadata": {},
   "source": [
    "## Data Limitations\n",
    "\n",
    "Fortunately, our data is seemingly complete, since the NBA should have been able to record all of these statistics accurately. However, there are some limitations we must be aware of. \n",
    "\n",
    "\n",
    "- This data is on the team's averages, not specific games. While it does include a variety of statistics, it may make it more difficult to test specific things, such as the effect of home-court advantage, as this data will only show the aggregate and averages. \n",
    "- Basketball games are by nature somewhat unpredictable, with any given player able to play well on a certain night, so it is important to remember that this data comes from human beings playing a sport\n",
    "- We only have a year and a half of data, so it may be difficult to analyze long-term trends. Any results from our analysis will be very difficult to prove any sort of causation, but we hope to find meaningful correlations. \n",
    "- The regular season bubble data is from only 8 games, which affects the data. There were only 8 regular-season games in the bubble, but still, it is harder to detect trends from a smaller sample. \n",
    "- We have some preconceived notions about how players may have been affected by the bubble, but we must be aware of these and make sure they do not affect our conclusions and interpretion of our results. \n"
   ]
  },
  {
   "cell_type": "markdown",
   "metadata": {},
   "source": [
    "## Questions for Reviewers  \n",
    "- Did we correctly use and evaluate the t-tests we ran?\n",
    "- Should we include more analyses/graphs? We had many more but weren't sure if adding more would make it too difficult to follow.\n",
    "- Is the way we formatted the report logical and easy to follow?"
   ]
  }
 ],
 "metadata": {
  "kernelspec": {
   "display_name": "Python 3",
   "language": "python",
   "name": "python3"
  },
  "language_info": {
   "codemirror_mode": {
    "name": "ipython",
    "version": 3
   },
   "file_extension": ".py",
   "mimetype": "text/x-python",
   "name": "python",
   "nbconvert_exporter": "python",
   "pygments_lexer": "ipython3",
   "version": "3.8.3"
  }
 },
 "nbformat": 4,
 "nbformat_minor": 4
}
