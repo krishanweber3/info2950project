{
 "cells": [
  {
   "cell_type": "markdown",
   "metadata": {},
   "source": [
    "Research questions:\n",
    "\n",
    "- Did lower-seeded teams perform better in the bubble playoffs, without home-court advantage helping the higher-seeded teams?\n",
    "- Did teams score higher on average in the bubble?\n",
    "    - other factors affecting scoring\n",
    "- Did teams have more fouls with fans?\n",
    "\n"
   ]
  },
  {
   "cell_type": "markdown",
   "metadata": {},
   "source": [
    "Data Limitiations:\n",
    "\n",
    "- This data is on the team's averages, not specific games. While it does include a variety of statistics, it may make it more difficult to test specific things, such as the effect of home-court advantage, as this data will only show the aggregate. \n",
    "- Basketball games are by nature somewhat unpredictable, with any given player able to play well on a certain night, so it is important to remember that this data comes from human beings playing a sport\n",
    "- We only have a year and a half of data, so it may be difficult to analyze long-term trends\n",
    "- The regular season bubble data is from only 8 games, which affects the data. There were only 8 regular-season games in the bubble, but still, it is harder to detect trends from a smaller sample. "
   ]
  },
  {
   "cell_type": "code",
   "execution_count": 1,
   "metadata": {},
   "outputs": [],
   "source": [
    "import pandas as pd\n",
    "import numpy as np\n",
    "import matplotlib.pyplot as plt\n",
    "\n",
    "\n",
    "## load data\n",
    "bubble_reg_trad = pd.read_excel(\"nbadata2950.xlsx\", sheet_name=\"bubbleregtrad\")\n",
    "bubble_reg_adv= pd.read_excel(\"nbadata2950.xlsx\", sheet_name=\"bubbleregadv\")\n",
    "\n"
   ]
  },
  {
   "cell_type": "code",
   "execution_count": 2,
   "metadata": {},
   "outputs": [
    {
     "data": {
      "text/html": [
       "<div>\n",
       "<style scoped>\n",
       "    .dataframe tbody tr th:only-of-type {\n",
       "        vertical-align: middle;\n",
       "    }\n",
       "\n",
       "    .dataframe tbody tr th {\n",
       "        vertical-align: top;\n",
       "    }\n",
       "\n",
       "    .dataframe thead th {\n",
       "        text-align: right;\n",
       "    }\n",
       "</style>\n",
       "<table border=\"1\" class=\"dataframe\">\n",
       "  <thead>\n",
       "    <tr style=\"text-align: right;\">\n",
       "      <th></th>\n",
       "      <th>TEAM</th>\n",
       "      <th>GP</th>\n",
       "      <th>W</th>\n",
       "      <th>L</th>\n",
       "      <th>WIN%</th>\n",
       "      <th>MIN</th>\n",
       "      <th>PTS</th>\n",
       "      <th>FGM</th>\n",
       "      <th>FGA</th>\n",
       "      <th>FG%</th>\n",
       "      <th>...</th>\n",
       "      <th>AST/TO</th>\n",
       "      <th>AST RATIO</th>\n",
       "      <th>OREB%</th>\n",
       "      <th>DREB%</th>\n",
       "      <th>REB%</th>\n",
       "      <th>TOV%</th>\n",
       "      <th>EFG%</th>\n",
       "      <th>TS%</th>\n",
       "      <th>PACE</th>\n",
       "      <th>PIE</th>\n",
       "    </tr>\n",
       "  </thead>\n",
       "  <tbody>\n",
       "    <tr>\n",
       "      <th>0</th>\n",
       "      <td>Washington Wizards</td>\n",
       "      <td>8</td>\n",
       "      <td>1</td>\n",
       "      <td>7</td>\n",
       "      <td>0.125</td>\n",
       "      <td>48.0</td>\n",
       "      <td>104.9</td>\n",
       "      <td>38.5</td>\n",
       "      <td>90.4</td>\n",
       "      <td>42.6</td>\n",
       "      <td>...</td>\n",
       "      <td>1.50</td>\n",
       "      <td>16.1</td>\n",
       "      <td>27.7</td>\n",
       "      <td>74.7</td>\n",
       "      <td>49.8</td>\n",
       "      <td>14.7</td>\n",
       "      <td>47.9</td>\n",
       "      <td>52.1</td>\n",
       "      <td>102.25</td>\n",
       "      <td>43.6</td>\n",
       "    </tr>\n",
       "    <tr>\n",
       "      <th>1</th>\n",
       "      <td>Utah Jazz</td>\n",
       "      <td>8</td>\n",
       "      <td>3</td>\n",
       "      <td>5</td>\n",
       "      <td>0.375</td>\n",
       "      <td>49.3</td>\n",
       "      <td>113.4</td>\n",
       "      <td>39.6</td>\n",
       "      <td>89.6</td>\n",
       "      <td>44.2</td>\n",
       "      <td>...</td>\n",
       "      <td>1.45</td>\n",
       "      <td>17.2</td>\n",
       "      <td>28.9</td>\n",
       "      <td>74.3</td>\n",
       "      <td>50.6</td>\n",
       "      <td>16.3</td>\n",
       "      <td>52.6</td>\n",
       "      <td>56.8</td>\n",
       "      <td>100.69</td>\n",
       "      <td>47.2</td>\n",
       "    </tr>\n",
       "    <tr>\n",
       "      <th>2</th>\n",
       "      <td>Toronto Raptors</td>\n",
       "      <td>8</td>\n",
       "      <td>7</td>\n",
       "      <td>1</td>\n",
       "      <td>0.875</td>\n",
       "      <td>48.0</td>\n",
       "      <td>110.9</td>\n",
       "      <td>37.6</td>\n",
       "      <td>83.3</td>\n",
       "      <td>45.2</td>\n",
       "      <td>...</td>\n",
       "      <td>1.34</td>\n",
       "      <td>17.3</td>\n",
       "      <td>22.8</td>\n",
       "      <td>76.9</td>\n",
       "      <td>51.0</td>\n",
       "      <td>17.2</td>\n",
       "      <td>53.8</td>\n",
       "      <td>58.1</td>\n",
       "      <td>103.69</td>\n",
       "      <td>52.5</td>\n",
       "    </tr>\n",
       "    <tr>\n",
       "      <th>3</th>\n",
       "      <td>San Antonio Spurs</td>\n",
       "      <td>8</td>\n",
       "      <td>5</td>\n",
       "      <td>3</td>\n",
       "      <td>0.625</td>\n",
       "      <td>48.0</td>\n",
       "      <td>121.1</td>\n",
       "      <td>43.3</td>\n",
       "      <td>89.0</td>\n",
       "      <td>48.6</td>\n",
       "      <td>...</td>\n",
       "      <td>1.68</td>\n",
       "      <td>17.8</td>\n",
       "      <td>27.8</td>\n",
       "      <td>75.1</td>\n",
       "      <td>52.1</td>\n",
       "      <td>14.4</td>\n",
       "      <td>54.8</td>\n",
       "      <td>59.6</td>\n",
       "      <td>105.50</td>\n",
       "      <td>52.9</td>\n",
       "    </tr>\n",
       "    <tr>\n",
       "      <th>4</th>\n",
       "      <td>Sacramento Kings</td>\n",
       "      <td>8</td>\n",
       "      <td>3</td>\n",
       "      <td>5</td>\n",
       "      <td>0.375</td>\n",
       "      <td>48.6</td>\n",
       "      <td>119.0</td>\n",
       "      <td>45.0</td>\n",
       "      <td>92.8</td>\n",
       "      <td>48.5</td>\n",
       "      <td>...</td>\n",
       "      <td>1.79</td>\n",
       "      <td>18.6</td>\n",
       "      <td>27.5</td>\n",
       "      <td>74.2</td>\n",
       "      <td>50.4</td>\n",
       "      <td>14.4</td>\n",
       "      <td>55.7</td>\n",
       "      <td>58.5</td>\n",
       "      <td>103.77</td>\n",
       "      <td>48.3</td>\n",
       "    </tr>\n",
       "    <tr>\n",
       "      <th>5</th>\n",
       "      <td>Portland Trail Blazers</td>\n",
       "      <td>8</td>\n",
       "      <td>6</td>\n",
       "      <td>2</td>\n",
       "      <td>0.750</td>\n",
       "      <td>48.6</td>\n",
       "      <td>126.0</td>\n",
       "      <td>44.9</td>\n",
       "      <td>93.9</td>\n",
       "      <td>47.8</td>\n",
       "      <td>...</td>\n",
       "      <td>2.18</td>\n",
       "      <td>17.0</td>\n",
       "      <td>29.4</td>\n",
       "      <td>73.4</td>\n",
       "      <td>50.7</td>\n",
       "      <td>10.7</td>\n",
       "      <td>56.0</td>\n",
       "      <td>60.1</td>\n",
       "      <td>101.37</td>\n",
       "      <td>51.0</td>\n",
       "    </tr>\n",
       "    <tr>\n",
       "      <th>6</th>\n",
       "      <td>Phoenix Suns</td>\n",
       "      <td>8</td>\n",
       "      <td>8</td>\n",
       "      <td>0</td>\n",
       "      <td>1.000</td>\n",
       "      <td>48.0</td>\n",
       "      <td>122.3</td>\n",
       "      <td>44.5</td>\n",
       "      <td>90.0</td>\n",
       "      <td>49.4</td>\n",
       "      <td>...</td>\n",
       "      <td>2.28</td>\n",
       "      <td>19.6</td>\n",
       "      <td>25.7</td>\n",
       "      <td>78.1</td>\n",
       "      <td>53.1</td>\n",
       "      <td>11.9</td>\n",
       "      <td>56.7</td>\n",
       "      <td>61.2</td>\n",
       "      <td>101.63</td>\n",
       "      <td>57.0</td>\n",
       "    </tr>\n",
       "    <tr>\n",
       "      <th>7</th>\n",
       "      <td>Philadelphia 76ers</td>\n",
       "      <td>8</td>\n",
       "      <td>4</td>\n",
       "      <td>4</td>\n",
       "      <td>0.500</td>\n",
       "      <td>48.0</td>\n",
       "      <td>120.1</td>\n",
       "      <td>43.6</td>\n",
       "      <td>89.5</td>\n",
       "      <td>48.7</td>\n",
       "      <td>...</td>\n",
       "      <td>1.77</td>\n",
       "      <td>17.8</td>\n",
       "      <td>30.6</td>\n",
       "      <td>74.7</td>\n",
       "      <td>52.5</td>\n",
       "      <td>14.1</td>\n",
       "      <td>56.1</td>\n",
       "      <td>59.7</td>\n",
       "      <td>101.31</td>\n",
       "      <td>51.0</td>\n",
       "    </tr>\n",
       "    <tr>\n",
       "      <th>8</th>\n",
       "      <td>Orlando Magic</td>\n",
       "      <td>8</td>\n",
       "      <td>3</td>\n",
       "      <td>5</td>\n",
       "      <td>0.375</td>\n",
       "      <td>48.6</td>\n",
       "      <td>114.6</td>\n",
       "      <td>40.1</td>\n",
       "      <td>86.9</td>\n",
       "      <td>46.2</td>\n",
       "      <td>...</td>\n",
       "      <td>1.61</td>\n",
       "      <td>17.0</td>\n",
       "      <td>25.8</td>\n",
       "      <td>75.7</td>\n",
       "      <td>50.8</td>\n",
       "      <td>14.3</td>\n",
       "      <td>53.2</td>\n",
       "      <td>57.8</td>\n",
       "      <td>101.31</td>\n",
       "      <td>47.9</td>\n",
       "    </tr>\n",
       "    <tr>\n",
       "      <th>9</th>\n",
       "      <td>Oklahoma City Thunder</td>\n",
       "      <td>8</td>\n",
       "      <td>4</td>\n",
       "      <td>4</td>\n",
       "      <td>0.500</td>\n",
       "      <td>49.3</td>\n",
       "      <td>107.6</td>\n",
       "      <td>37.6</td>\n",
       "      <td>88.6</td>\n",
       "      <td>42.5</td>\n",
       "      <td>...</td>\n",
       "      <td>1.30</td>\n",
       "      <td>14.8</td>\n",
       "      <td>25.6</td>\n",
       "      <td>73.2</td>\n",
       "      <td>49.1</td>\n",
       "      <td>15.1</td>\n",
       "      <td>49.8</td>\n",
       "      <td>54.1</td>\n",
       "      <td>101.06</td>\n",
       "      <td>47.2</td>\n",
       "    </tr>\n",
       "    <tr>\n",
       "      <th>10</th>\n",
       "      <td>New Orleans Pelicans</td>\n",
       "      <td>8</td>\n",
       "      <td>2</td>\n",
       "      <td>6</td>\n",
       "      <td>0.250</td>\n",
       "      <td>48.0</td>\n",
       "      <td>113.1</td>\n",
       "      <td>42.0</td>\n",
       "      <td>87.0</td>\n",
       "      <td>48.3</td>\n",
       "      <td>...</td>\n",
       "      <td>1.43</td>\n",
       "      <td>18.0</td>\n",
       "      <td>28.2</td>\n",
       "      <td>71.3</td>\n",
       "      <td>50.0</td>\n",
       "      <td>17.4</td>\n",
       "      <td>54.5</td>\n",
       "      <td>57.7</td>\n",
       "      <td>103.31</td>\n",
       "      <td>48.5</td>\n",
       "    </tr>\n",
       "    <tr>\n",
       "      <th>11</th>\n",
       "      <td>Milwaukee Bucks</td>\n",
       "      <td>8</td>\n",
       "      <td>3</td>\n",
       "      <td>5</td>\n",
       "      <td>0.375</td>\n",
       "      <td>48.6</td>\n",
       "      <td>118.9</td>\n",
       "      <td>41.3</td>\n",
       "      <td>88.8</td>\n",
       "      <td>46.5</td>\n",
       "      <td>...</td>\n",
       "      <td>1.53</td>\n",
       "      <td>17.5</td>\n",
       "      <td>24.1</td>\n",
       "      <td>76.7</td>\n",
       "      <td>51.9</td>\n",
       "      <td>15.3</td>\n",
       "      <td>54.5</td>\n",
       "      <td>58.4</td>\n",
       "      <td>106.74</td>\n",
       "      <td>51.5</td>\n",
       "    </tr>\n",
       "    <tr>\n",
       "      <th>12</th>\n",
       "      <td>Miami Heat</td>\n",
       "      <td>8</td>\n",
       "      <td>3</td>\n",
       "      <td>5</td>\n",
       "      <td>0.375</td>\n",
       "      <td>48.0</td>\n",
       "      <td>111.1</td>\n",
       "      <td>38.0</td>\n",
       "      <td>84.3</td>\n",
       "      <td>45.1</td>\n",
       "      <td>...</td>\n",
       "      <td>1.69</td>\n",
       "      <td>18.5</td>\n",
       "      <td>23.7</td>\n",
       "      <td>73.1</td>\n",
       "      <td>48.2</td>\n",
       "      <td>14.9</td>\n",
       "      <td>53.3</td>\n",
       "      <td>58.1</td>\n",
       "      <td>100.69</td>\n",
       "      <td>51.4</td>\n",
       "    </tr>\n",
       "    <tr>\n",
       "      <th>13</th>\n",
       "      <td>Memphis Grizzlies</td>\n",
       "      <td>8</td>\n",
       "      <td>2</td>\n",
       "      <td>6</td>\n",
       "      <td>0.250</td>\n",
       "      <td>48.6</td>\n",
       "      <td>112.6</td>\n",
       "      <td>40.9</td>\n",
       "      <td>90.1</td>\n",
       "      <td>45.4</td>\n",
       "      <td>...</td>\n",
       "      <td>1.72</td>\n",
       "      <td>18.1</td>\n",
       "      <td>24.9</td>\n",
       "      <td>75.4</td>\n",
       "      <td>50.1</td>\n",
       "      <td>14.4</td>\n",
       "      <td>51.5</td>\n",
       "      <td>55.5</td>\n",
       "      <td>103.77</td>\n",
       "      <td>50.1</td>\n",
       "    </tr>\n",
       "    <tr>\n",
       "      <th>14</th>\n",
       "      <td>Los Angeles Lakers</td>\n",
       "      <td>8</td>\n",
       "      <td>3</td>\n",
       "      <td>5</td>\n",
       "      <td>0.375</td>\n",
       "      <td>48.0</td>\n",
       "      <td>106.4</td>\n",
       "      <td>37.8</td>\n",
       "      <td>86.3</td>\n",
       "      <td>43.8</td>\n",
       "      <td>...</td>\n",
       "      <td>1.37</td>\n",
       "      <td>15.7</td>\n",
       "      <td>27.7</td>\n",
       "      <td>76.1</td>\n",
       "      <td>49.9</td>\n",
       "      <td>15.5</td>\n",
       "      <td>49.5</td>\n",
       "      <td>53.7</td>\n",
       "      <td>101.88</td>\n",
       "      <td>45.6</td>\n",
       "    </tr>\n",
       "    <tr>\n",
       "      <th>15</th>\n",
       "      <td>LA Clippers</td>\n",
       "      <td>8</td>\n",
       "      <td>5</td>\n",
       "      <td>3</td>\n",
       "      <td>0.625</td>\n",
       "      <td>48.6</td>\n",
       "      <td>117.6</td>\n",
       "      <td>41.0</td>\n",
       "      <td>85.8</td>\n",
       "      <td>47.8</td>\n",
       "      <td>...</td>\n",
       "      <td>1.73</td>\n",
       "      <td>16.9</td>\n",
       "      <td>23.0</td>\n",
       "      <td>76.4</td>\n",
       "      <td>51.1</td>\n",
       "      <td>12.9</td>\n",
       "      <td>56.3</td>\n",
       "      <td>60.3</td>\n",
       "      <td>100.32</td>\n",
       "      <td>53.4</td>\n",
       "    </tr>\n",
       "    <tr>\n",
       "      <th>16</th>\n",
       "      <td>Indiana Pacers</td>\n",
       "      <td>8</td>\n",
       "      <td>6</td>\n",
       "      <td>2</td>\n",
       "      <td>0.750</td>\n",
       "      <td>48.0</td>\n",
       "      <td>110.3</td>\n",
       "      <td>41.9</td>\n",
       "      <td>89.1</td>\n",
       "      <td>47.0</td>\n",
       "      <td>...</td>\n",
       "      <td>1.77</td>\n",
       "      <td>18.3</td>\n",
       "      <td>21.8</td>\n",
       "      <td>68.9</td>\n",
       "      <td>46.4</td>\n",
       "      <td>13.9</td>\n",
       "      <td>53.6</td>\n",
       "      <td>56.6</td>\n",
       "      <td>102.38</td>\n",
       "      <td>52.3</td>\n",
       "    </tr>\n",
       "    <tr>\n",
       "      <th>17</th>\n",
       "      <td>Houston Rockets</td>\n",
       "      <td>8</td>\n",
       "      <td>4</td>\n",
       "      <td>4</td>\n",
       "      <td>0.500</td>\n",
       "      <td>48.6</td>\n",
       "      <td>115.3</td>\n",
       "      <td>38.0</td>\n",
       "      <td>88.6</td>\n",
       "      <td>42.9</td>\n",
       "      <td>...</td>\n",
       "      <td>1.54</td>\n",
       "      <td>16.3</td>\n",
       "      <td>15.3</td>\n",
       "      <td>70.5</td>\n",
       "      <td>42.7</td>\n",
       "      <td>13.6</td>\n",
       "      <td>52.8</td>\n",
       "      <td>57.5</td>\n",
       "      <td>107.35</td>\n",
       "      <td>47.0</td>\n",
       "    </tr>\n",
       "    <tr>\n",
       "      <th>18</th>\n",
       "      <td>Denver Nuggets</td>\n",
       "      <td>8</td>\n",
       "      <td>3</td>\n",
       "      <td>5</td>\n",
       "      <td>0.375</td>\n",
       "      <td>49.9</td>\n",
       "      <td>118.5</td>\n",
       "      <td>43.8</td>\n",
       "      <td>88.8</td>\n",
       "      <td>49.3</td>\n",
       "      <td>...</td>\n",
       "      <td>1.98</td>\n",
       "      <td>19.9</td>\n",
       "      <td>29.2</td>\n",
       "      <td>70.6</td>\n",
       "      <td>49.8</td>\n",
       "      <td>14.2</td>\n",
       "      <td>55.9</td>\n",
       "      <td>59.5</td>\n",
       "      <td>97.50</td>\n",
       "      <td>49.6</td>\n",
       "    </tr>\n",
       "    <tr>\n",
       "      <th>19</th>\n",
       "      <td>Dallas Mavericks</td>\n",
       "      <td>8</td>\n",
       "      <td>3</td>\n",
       "      <td>5</td>\n",
       "      <td>0.375</td>\n",
       "      <td>49.9</td>\n",
       "      <td>122.5</td>\n",
       "      <td>42.1</td>\n",
       "      <td>93.1</td>\n",
       "      <td>45.2</td>\n",
       "      <td>...</td>\n",
       "      <td>2.18</td>\n",
       "      <td>18.0</td>\n",
       "      <td>27.0</td>\n",
       "      <td>76.0</td>\n",
       "      <td>50.7</td>\n",
       "      <td>11.5</td>\n",
       "      <td>52.6</td>\n",
       "      <td>57.6</td>\n",
       "      <td>100.81</td>\n",
       "      <td>48.2</td>\n",
       "    </tr>\n",
       "    <tr>\n",
       "      <th>20</th>\n",
       "      <td>Brooklyn Nets</td>\n",
       "      <td>8</td>\n",
       "      <td>5</td>\n",
       "      <td>3</td>\n",
       "      <td>0.625</td>\n",
       "      <td>48.0</td>\n",
       "      <td>119.9</td>\n",
       "      <td>43.8</td>\n",
       "      <td>91.9</td>\n",
       "      <td>47.6</td>\n",
       "      <td>...</td>\n",
       "      <td>2.09</td>\n",
       "      <td>19.4</td>\n",
       "      <td>24.6</td>\n",
       "      <td>72.9</td>\n",
       "      <td>48.5</td>\n",
       "      <td>12.8</td>\n",
       "      <td>55.6</td>\n",
       "      <td>58.7</td>\n",
       "      <td>103.25</td>\n",
       "      <td>49.8</td>\n",
       "    </tr>\n",
       "    <tr>\n",
       "      <th>21</th>\n",
       "      <td>Boston Celtics</td>\n",
       "      <td>8</td>\n",
       "      <td>5</td>\n",
       "      <td>3</td>\n",
       "      <td>0.625</td>\n",
       "      <td>48.6</td>\n",
       "      <td>118.9</td>\n",
       "      <td>42.1</td>\n",
       "      <td>89.1</td>\n",
       "      <td>47.3</td>\n",
       "      <td>...</td>\n",
       "      <td>1.61</td>\n",
       "      <td>17.5</td>\n",
       "      <td>28.0</td>\n",
       "      <td>72.4</td>\n",
       "      <td>51.0</td>\n",
       "      <td>15.0</td>\n",
       "      <td>55.0</td>\n",
       "      <td>59.1</td>\n",
       "      <td>101.06</td>\n",
       "      <td>52.8</td>\n",
       "    </tr>\n",
       "  </tbody>\n",
       "</table>\n",
       "<p>22 rows × 43 columns</p>\n",
       "</div>"
      ],
      "text/plain": [
       "                      TEAM  GP  W  L   WIN%   MIN    PTS   FGM   FGA   FG%  \\\n",
       "0       Washington Wizards   8  1  7  0.125  48.0  104.9  38.5  90.4  42.6   \n",
       "1                Utah Jazz   8  3  5  0.375  49.3  113.4  39.6  89.6  44.2   \n",
       "2          Toronto Raptors   8  7  1  0.875  48.0  110.9  37.6  83.3  45.2   \n",
       "3        San Antonio Spurs   8  5  3  0.625  48.0  121.1  43.3  89.0  48.6   \n",
       "4         Sacramento Kings   8  3  5  0.375  48.6  119.0  45.0  92.8  48.5   \n",
       "5   Portland Trail Blazers   8  6  2  0.750  48.6  126.0  44.9  93.9  47.8   \n",
       "6             Phoenix Suns   8  8  0  1.000  48.0  122.3  44.5  90.0  49.4   \n",
       "7       Philadelphia 76ers   8  4  4  0.500  48.0  120.1  43.6  89.5  48.7   \n",
       "8            Orlando Magic   8  3  5  0.375  48.6  114.6  40.1  86.9  46.2   \n",
       "9    Oklahoma City Thunder   8  4  4  0.500  49.3  107.6  37.6  88.6  42.5   \n",
       "10    New Orleans Pelicans   8  2  6  0.250  48.0  113.1  42.0  87.0  48.3   \n",
       "11         Milwaukee Bucks   8  3  5  0.375  48.6  118.9  41.3  88.8  46.5   \n",
       "12              Miami Heat   8  3  5  0.375  48.0  111.1  38.0  84.3  45.1   \n",
       "13       Memphis Grizzlies   8  2  6  0.250  48.6  112.6  40.9  90.1  45.4   \n",
       "14      Los Angeles Lakers   8  3  5  0.375  48.0  106.4  37.8  86.3  43.8   \n",
       "15             LA Clippers   8  5  3  0.625  48.6  117.6  41.0  85.8  47.8   \n",
       "16          Indiana Pacers   8  6  2  0.750  48.0  110.3  41.9  89.1  47.0   \n",
       "17         Houston Rockets   8  4  4  0.500  48.6  115.3  38.0  88.6  42.9   \n",
       "18          Denver Nuggets   8  3  5  0.375  49.9  118.5  43.8  88.8  49.3   \n",
       "19        Dallas Mavericks   8  3  5  0.375  49.9  122.5  42.1  93.1  45.2   \n",
       "20           Brooklyn Nets   8  5  3  0.625  48.0  119.9  43.8  91.9  47.6   \n",
       "21          Boston Celtics   8  5  3  0.625  48.6  118.9  42.1  89.1  47.3   \n",
       "\n",
       "    ...  AST/TO  AST RATIO  OREB%  DREB%  REB%  TOV%  EFG%   TS%    PACE   PIE  \n",
       "0   ...    1.50       16.1   27.7   74.7  49.8  14.7  47.9  52.1  102.25  43.6  \n",
       "1   ...    1.45       17.2   28.9   74.3  50.6  16.3  52.6  56.8  100.69  47.2  \n",
       "2   ...    1.34       17.3   22.8   76.9  51.0  17.2  53.8  58.1  103.69  52.5  \n",
       "3   ...    1.68       17.8   27.8   75.1  52.1  14.4  54.8  59.6  105.50  52.9  \n",
       "4   ...    1.79       18.6   27.5   74.2  50.4  14.4  55.7  58.5  103.77  48.3  \n",
       "5   ...    2.18       17.0   29.4   73.4  50.7  10.7  56.0  60.1  101.37  51.0  \n",
       "6   ...    2.28       19.6   25.7   78.1  53.1  11.9  56.7  61.2  101.63  57.0  \n",
       "7   ...    1.77       17.8   30.6   74.7  52.5  14.1  56.1  59.7  101.31  51.0  \n",
       "8   ...    1.61       17.0   25.8   75.7  50.8  14.3  53.2  57.8  101.31  47.9  \n",
       "9   ...    1.30       14.8   25.6   73.2  49.1  15.1  49.8  54.1  101.06  47.2  \n",
       "10  ...    1.43       18.0   28.2   71.3  50.0  17.4  54.5  57.7  103.31  48.5  \n",
       "11  ...    1.53       17.5   24.1   76.7  51.9  15.3  54.5  58.4  106.74  51.5  \n",
       "12  ...    1.69       18.5   23.7   73.1  48.2  14.9  53.3  58.1  100.69  51.4  \n",
       "13  ...    1.72       18.1   24.9   75.4  50.1  14.4  51.5  55.5  103.77  50.1  \n",
       "14  ...    1.37       15.7   27.7   76.1  49.9  15.5  49.5  53.7  101.88  45.6  \n",
       "15  ...    1.73       16.9   23.0   76.4  51.1  12.9  56.3  60.3  100.32  53.4  \n",
       "16  ...    1.77       18.3   21.8   68.9  46.4  13.9  53.6  56.6  102.38  52.3  \n",
       "17  ...    1.54       16.3   15.3   70.5  42.7  13.6  52.8  57.5  107.35  47.0  \n",
       "18  ...    1.98       19.9   29.2   70.6  49.8  14.2  55.9  59.5   97.50  49.6  \n",
       "19  ...    2.18       18.0   27.0   76.0  50.7  11.5  52.6  57.6  100.81  48.2  \n",
       "20  ...    2.09       19.4   24.6   72.9  48.5  12.8  55.6  58.7  103.25  49.8  \n",
       "21  ...    1.61       17.5   28.0   72.4  51.0  15.0  55.0  59.1  101.06  52.8  \n",
       "\n",
       "[22 rows x 43 columns]"
      ]
     },
     "execution_count": 2,
     "metadata": {},
     "output_type": "execute_result"
    }
   ],
   "source": [
    "bubble_reg=pd.merge(bubble_reg_trad, bubble_reg_adv, how='inner', on='TEAM')\n",
    "\n",
    "bubble_reg=bubble_reg.drop(columns=['GP_y', 'W_y', 'L_y', 'Unnamed: 0_x'])\n",
    "bubble_reg=bubble_reg.rename(columns={\"GP_x\":\"GP\", \"W_x\": \"W\", \"L_x\": \"L\", \"MIN_x\": \"MIN\"})\n",
    "bubble_reg"
   ]
  },
  {
   "cell_type": "code",
   "execution_count": 6,
   "metadata": {},
   "outputs": [],
   "source": [
    "#print(bubble_reg)"
   ]
  },
  {
   "cell_type": "code",
   "execution_count": 3,
   "metadata": {},
   "outputs": [
    {
     "data": {
      "image/png": "[encoded data removed]",
      "text/plain": [
       "<Figure size 432x288 with 1 Axes>"
      ]
     },
     "metadata": {
      "needs_background": "light"
     },
     "output_type": "display_data"
    }
   ],
   "source": [
    "plt.scatter(bubble_reg[\"REB\"], bubble_reg[\"WIN%\"], alpha=.3)\n",
    "plt.xlabel('Rebounds per game')\n",
    "plt.ylabel('Win %')\n",
    "plt.show()\n"
   ]
  },
  {
   "cell_type": "code",
   "execution_count": 4,
   "metadata": {},
   "outputs": [
    {
     "data": {
      "image/png": "[encoded data removed]",
      "text/plain": [
       "<Figure size 432x288 with 1 Axes>"
      ]
     },
     "metadata": {
      "needs_background": "light"
     },
     "output_type": "display_data"
    }
   ],
   "source": [
    "plt.scatter(bubble_reg[\"PTS\"], bubble_reg[\"FG%\"], alpha=.3)\n",
    "plt.xlabel('Field Goal Percentage')\n",
    "plt.ylabel('Points per Game')\n",
    "plt.show()"
   ]
  },
  {
   "cell_type": "code",
   "execution_count": 5,
   "metadata": {},
   "outputs": [
    {
     "data": {
      "image/png": "[encoded data removed]",
      "text/plain": [
       "<Figure size 432x288 with 1 Axes>"
      ]
     },
     "metadata": {
      "needs_background": "light"
     },
     "output_type": "display_data"
    }
   ],
   "source": [
    "plt.hist(bubble_reg['PTS'])\n",
    "plt.xlabel('Points per game')\n",
    "plt.ylabel('# Teams')\n",
    "plt.show()"
   ]
  },
  {
   "cell_type": "code",
   "execution_count": 23,
   "metadata": {},
   "outputs": [
    {
     "data": {
      "text/plain": [
       "<AxesSubplot:title={'center':'PTS'}, xlabel='TEAM'>"
      ]
     },
     "execution_count": 23,
     "metadata": {},
     "output_type": "execute_result"
    },
    {
     "data": {
      "image/png": "[encoded data removed]",
      "text/plain": [
       "<Figure size 432x288 with 1 Axes>"
      ]
     },
     "metadata": {
      "needs_background": "light"
     },
     "output_type": "display_data"
    }
   ],
   "source": [
    "bubble_reg.boxplot(by=\"TEAM\", column=\"PTS\")"
   ]
  },
  {
   "cell_type": "code",
   "execution_count": 7,
   "metadata": {},
   "outputs": [
    {
     "data": {
      "text/html": [
       "<div>\n",
       "<style scoped>\n",
       "    .dataframe tbody tr th:only-of-type {\n",
       "        vertical-align: middle;\n",
       "    }\n",
       "\n",
       "    .dataframe tbody tr th {\n",
       "        vertical-align: top;\n",
       "    }\n",
       "\n",
       "    .dataframe thead th {\n",
       "        text-align: right;\n",
       "    }\n",
       "</style>\n",
       "<table border=\"1\" class=\"dataframe\">\n",
       "  <thead>\n",
       "    <tr style=\"text-align: right;\">\n",
       "      <th></th>\n",
       "      <th>W</th>\n",
       "      <th>PTS</th>\n",
       "    </tr>\n",
       "  </thead>\n",
       "  <tbody>\n",
       "    <tr>\n",
       "      <th>W</th>\n",
       "      <td>1.000000</td>\n",
       "      <td>0.399877</td>\n",
       "    </tr>\n",
       "    <tr>\n",
       "      <th>PTS</th>\n",
       "      <td>0.399877</td>\n",
       "      <td>1.000000</td>\n",
       "    </tr>\n",
       "  </tbody>\n",
       "</table>\n",
       "</div>"
      ],
      "text/plain": [
       "            W       PTS\n",
       "W    1.000000  0.399877\n",
       "PTS  0.399877  1.000000"
      ]
     },
     "execution_count": 7,
     "metadata": {},
     "output_type": "execute_result"
    }
   ],
   "source": [
    "bubble_reg[ [\"W\", \"PTS\"] ].corr()"
   ]
  },
  {
   "cell_type": "code",
   "execution_count": 8,
   "metadata": {},
   "outputs": [
    {
     "data": {
      "text/html": [
       "<div>\n",
       "<style scoped>\n",
       "    .dataframe tbody tr th:only-of-type {\n",
       "        vertical-align: middle;\n",
       "    }\n",
       "\n",
       "    .dataframe tbody tr th {\n",
       "        vertical-align: top;\n",
       "    }\n",
       "\n",
       "    .dataframe thead th {\n",
       "        text-align: right;\n",
       "    }\n",
       "</style>\n",
       "<table border=\"1\" class=\"dataframe\">\n",
       "  <thead>\n",
       "    <tr style=\"text-align: right;\">\n",
       "      <th></th>\n",
       "      <th>W</th>\n",
       "      <th>REB</th>\n",
       "    </tr>\n",
       "  </thead>\n",
       "  <tbody>\n",
       "    <tr>\n",
       "      <th>W</th>\n",
       "      <td>1.000000</td>\n",
       "      <td>0.192712</td>\n",
       "    </tr>\n",
       "    <tr>\n",
       "      <th>REB</th>\n",
       "      <td>0.192712</td>\n",
       "      <td>1.000000</td>\n",
       "    </tr>\n",
       "  </tbody>\n",
       "</table>\n",
       "</div>"
      ],
      "text/plain": [
       "            W       REB\n",
       "W    1.000000  0.192712\n",
       "REB  0.192712  1.000000"
      ]
     },
     "execution_count": 8,
     "metadata": {},
     "output_type": "execute_result"
    }
   ],
   "source": [
    "bubble_reg[ [\"W\", \"REB\"] ].corr()"
   ]
  },
  {
   "cell_type": "code",
   "execution_count": 9,
   "metadata": {},
   "outputs": [
    {
     "data": {
      "text/html": [
       "<div>\n",
       "<style scoped>\n",
       "    .dataframe tbody tr th:only-of-type {\n",
       "        vertical-align: middle;\n",
       "    }\n",
       "\n",
       "    .dataframe tbody tr th {\n",
       "        vertical-align: top;\n",
       "    }\n",
       "\n",
       "    .dataframe thead th {\n",
       "        text-align: right;\n",
       "    }\n",
       "</style>\n",
       "<table border=\"1\" class=\"dataframe\">\n",
       "  <thead>\n",
       "    <tr style=\"text-align: right;\">\n",
       "      <th></th>\n",
       "      <th>W</th>\n",
       "      <th>FG%</th>\n",
       "    </tr>\n",
       "  </thead>\n",
       "  <tbody>\n",
       "    <tr>\n",
       "      <th>W</th>\n",
       "      <td>1.000000</td>\n",
       "      <td>0.380048</td>\n",
       "    </tr>\n",
       "    <tr>\n",
       "      <th>FG%</th>\n",
       "      <td>0.380048</td>\n",
       "      <td>1.000000</td>\n",
       "    </tr>\n",
       "  </tbody>\n",
       "</table>\n",
       "</div>"
      ],
      "text/plain": [
       "            W       FG%\n",
       "W    1.000000  0.380048\n",
       "FG%  0.380048  1.000000"
      ]
     },
     "execution_count": 9,
     "metadata": {},
     "output_type": "execute_result"
    }
   ],
   "source": [
    "bubble_reg[ [\"W\", \"FG%\"] ].corr()"
   ]
  },
  {
   "cell_type": "code",
   "execution_count": 10,
   "metadata": {},
   "outputs": [
    {
     "data": {
      "text/html": [
       "<div>\n",
       "<style scoped>\n",
       "    .dataframe tbody tr th:only-of-type {\n",
       "        vertical-align: middle;\n",
       "    }\n",
       "\n",
       "    .dataframe tbody tr th {\n",
       "        vertical-align: top;\n",
       "    }\n",
       "\n",
       "    .dataframe thead th {\n",
       "        text-align: right;\n",
       "    }\n",
       "</style>\n",
       "<table border=\"1\" class=\"dataframe\">\n",
       "  <thead>\n",
       "    <tr style=\"text-align: right;\">\n",
       "      <th></th>\n",
       "      <th>W</th>\n",
       "      <th>PIE</th>\n",
       "    </tr>\n",
       "  </thead>\n",
       "  <tbody>\n",
       "    <tr>\n",
       "      <th>W</th>\n",
       "      <td>1.0000</td>\n",
       "      <td>0.7625</td>\n",
       "    </tr>\n",
       "    <tr>\n",
       "      <th>PIE</th>\n",
       "      <td>0.7625</td>\n",
       "      <td>1.0000</td>\n",
       "    </tr>\n",
       "  </tbody>\n",
       "</table>\n",
       "</div>"
      ],
      "text/plain": [
       "          W     PIE\n",
       "W    1.0000  0.7625\n",
       "PIE  0.7625  1.0000"
      ]
     },
     "execution_count": 10,
     "metadata": {},
     "output_type": "execute_result"
    }
   ],
   "source": [
    "bubble_reg[ [\"W\", \"PIE\"] ].corr()"
   ]
  },
  {
   "cell_type": "code",
   "execution_count": 11,
   "metadata": {},
   "outputs": [
    {
     "data": {
      "text/html": [
       "<div>\n",
       "<style scoped>\n",
       "    .dataframe tbody tr th:only-of-type {\n",
       "        vertical-align: middle;\n",
       "    }\n",
       "\n",
       "    .dataframe tbody tr th {\n",
       "        vertical-align: top;\n",
       "    }\n",
       "\n",
       "    .dataframe thead th {\n",
       "        text-align: right;\n",
       "    }\n",
       "</style>\n",
       "<table border=\"1\" class=\"dataframe\">\n",
       "  <thead>\n",
       "    <tr style=\"text-align: right;\">\n",
       "      <th></th>\n",
       "      <th>PTS</th>\n",
       "      <th>PIE</th>\n",
       "    </tr>\n",
       "  </thead>\n",
       "  <tbody>\n",
       "    <tr>\n",
       "      <th>PTS</th>\n",
       "      <td>1.000000</td>\n",
       "      <td>0.535604</td>\n",
       "    </tr>\n",
       "    <tr>\n",
       "      <th>PIE</th>\n",
       "      <td>0.535604</td>\n",
       "      <td>1.000000</td>\n",
       "    </tr>\n",
       "  </tbody>\n",
       "</table>\n",
       "</div>"
      ],
      "text/plain": [
       "          PTS       PIE\n",
       "PTS  1.000000  0.535604\n",
       "PIE  0.535604  1.000000"
      ]
     },
     "execution_count": 11,
     "metadata": {},
     "output_type": "execute_result"
    }
   ],
   "source": [
    "bubble_reg[ [\"PTS\", \"PIE\"] ].corr()"
   ]
  },
  {
   "cell_type": "code",
   "execution_count": 12,
   "metadata": {},
   "outputs": [
    {
     "data": {
      "text/html": [
       "<div>\n",
       "<style scoped>\n",
       "    .dataframe tbody tr th:only-of-type {\n",
       "        vertical-align: middle;\n",
       "    }\n",
       "\n",
       "    .dataframe tbody tr th {\n",
       "        vertical-align: top;\n",
       "    }\n",
       "\n",
       "    .dataframe thead th {\n",
       "        text-align: right;\n",
       "    }\n",
       "</style>\n",
       "<table border=\"1\" class=\"dataframe\">\n",
       "  <thead>\n",
       "    <tr style=\"text-align: right;\">\n",
       "      <th></th>\n",
       "      <th>PTS</th>\n",
       "      <th>PIE</th>\n",
       "    </tr>\n",
       "  </thead>\n",
       "  <tbody>\n",
       "    <tr>\n",
       "      <th>PTS</th>\n",
       "      <td>31.904416</td>\n",
       "      <td>9.159437</td>\n",
       "    </tr>\n",
       "    <tr>\n",
       "      <th>PIE</th>\n",
       "      <td>9.159437</td>\n",
       "      <td>9.166407</td>\n",
       "    </tr>\n",
       "  </tbody>\n",
       "</table>\n",
       "</div>"
      ],
      "text/plain": [
       "           PTS       PIE\n",
       "PTS  31.904416  9.159437\n",
       "PIE   9.159437  9.166407"
      ]
     },
     "execution_count": 12,
     "metadata": {},
     "output_type": "execute_result"
    }
   ],
   "source": [
    "bubble_reg[ [\"PTS\", \"PIE\"] ].cov()"
   ]
  },
  {
   "cell_type": "code",
   "execution_count": 13,
   "metadata": {},
   "outputs": [
    {
     "data": {
      "image/png": "[encoded data removed]",
      "text/plain": [
       "<Figure size 432x288 with 1 Axes>"
      ]
     },
     "metadata": {
      "needs_background": "light"
     },
     "output_type": "display_data"
    }
   ],
   "source": [
    "plt.scatter(bubble_reg[\"PTS\"], bubble_reg[\"PIE\"], alpha=.3)\n",
    "plt.xlabel('Points')\n",
    "plt.ylabel('PIE')\n",
    "plt.show()"
   ]
  },
  {
   "cell_type": "code",
   "execution_count": 16,
   "metadata": {},
   "outputs": [
    {
     "data": {
      "image/png": "[encoded data removed]",
      "text/plain": [
       "<Figure size 432x288 with 1 Axes>"
      ]
     },
     "metadata": {
      "needs_background": "light"
     },
     "output_type": "display_data"
    }
   ],
   "source": [
    "plt.scatter(bubble_reg[\"AST\"], bubble_reg[\"PTS\"], alpha=.3)\n",
    "plt.xlabel('Assists per game')\n",
    "plt.ylabel('Points per game')\n",
    "plt.show()"
   ]
  },
  {
   "cell_type": "code",
   "execution_count": 24,
   "metadata": {},
   "outputs": [
    {
     "data": {
      "image/png": "[encoded data removed]",
      "text/plain": [
       "<Figure size 432x288 with 1 Axes>"
      ]
     },
     "metadata": {
      "needs_background": "light"
     },
     "output_type": "display_data"
    }
   ],
   "source": [
    "plt.scatter(bubble_reg[\"PTS\"], bubble_reg[\"W\"], alpha=.3)\n",
    "plt.xlabel('Points per game')\n",
    "plt.ylabel('Wins')\n",
    "plt.show()"
   ]
  },
  {
   "cell_type": "code",
   "execution_count": 25,
   "metadata": {},
   "outputs": [
    {
     "data": {
      "image/png": "[encoded data removed]",
      "text/plain": [
       "<Figure size 432x288 with 1 Axes>"
      ]
     },
     "metadata": {
      "needs_background": "light"
     },
     "output_type": "display_data"
    }
   ],
   "source": [
    "plt.scatter(bubble_reg[\"AST\"], bubble_reg[\"W\"], alpha=.3)\n",
    "plt.xlabel('Assists per game')\n",
    "plt.ylabel('Wins')\n",
    "plt.show()"
   ]
  },
  {
   "cell_type": "code",
   "execution_count": 26,
   "metadata": {},
   "outputs": [
    {
     "data": {
      "image/png": "[encoded data removed]",
      "text/plain": [
       "<Figure size 432x288 with 1 Axes>"
      ]
     },
     "metadata": {
      "needs_background": "light"
     },
     "output_type": "display_data"
    }
   ],
   "source": [
    "plt.scatter(bubble_reg[\"REB\"], bubble_reg[\"W\"], alpha=.3)\n",
    "plt.xlabel('Rebounds per game')\n",
    "plt.ylabel('Wins')\n",
    "plt.show()"
   ]
  },
  {
   "cell_type": "code",
   "execution_count": 27,
   "metadata": {},
   "outputs": [
    {
     "data": {
      "image/png": "[encoded data removed]",
      "text/plain": [
       "<Figure size 432x288 with 1 Axes>"
      ]
     },
     "metadata": {
      "needs_background": "light"
     },
     "output_type": "display_data"
    }
   ],
   "source": [
    "plt.scatter(bubble_reg[\"FG%\"], bubble_reg[\"W\"], alpha=.3)\n",
    "plt.xlabel('Field Goal %')\n",
    "plt.ylabel('Wins')\n",
    "plt.show()"
   ]
  },
  {
   "cell_type": "code",
   "execution_count": null,
   "metadata": {},
   "outputs": [],
   "source": []
  }
 ],
 "metadata": {
  "kernelspec": {
   "display_name": "Python 3",
   "language": "python",
   "name": "python3"
  },
  "language_info": {
   "codemirror_mode": {
    "name": "ipython",
    "version": 3
   },
   "file_extension": ".py",
   "mimetype": "text/x-python",
   "name": "python",
   "nbconvert_exporter": "python",
   "pygments_lexer": "ipython3",
   "version": "3.8.5"
  }
 },
 "nbformat": 4,
 "nbformat_minor": 4
}
