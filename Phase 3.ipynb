{
 "cells": [
  {
   "cell_type": "markdown",
   "metadata": {},
   "source": [
    "# Phase 3"
   ]
  },
  {
   "cell_type": "markdown",
   "metadata": {},
   "source": [
    "## Pregister analyses\n",
    "1) Single linear regression on playoff seed to predict wins in and out of bubble - measure effect of home court advantage with fans  \n",
    "2) Multiple linear regression with points, rebounds, assists to see how well these 3 main categories of basketball statistics predict succes  \n",
    "3) Single linear regression to show how age/experience affected success for teams in the bubble"
   ]
  },
  {
   "cell_type": "markdown",
   "metadata": {},
   "source": [
    "## Questions for Reviewers"
   ]
  },
  {
   "cell_type": "markdown",
   "metadata": {},
   "source": [
    "- What other types of analysis can we do?\n",
    "- Should we just try linear regression using a variety of different variables to see which best predicts success?\n",
    "- How many research questions would make sense to focus on? Are there any that stand out to you as especially interesting?"
   ]
  }
 ],
 "metadata": {
  "kernelspec": {
   "display_name": "Python 3",
   "language": "python",
   "name": "python3"
  },
  "language_info": {
   "codemirror_mode": {
    "name": "ipython",
    "version": 3
   },
   "file_extension": ".py",
   "mimetype": "text/x-python",
   "name": "python",
   "nbconvert_exporter": "python",
   "pygments_lexer": "ipython3",
   "version": "3.8.3"
  }
 },
 "nbformat": 4,
 "nbformat_minor": 4
}
